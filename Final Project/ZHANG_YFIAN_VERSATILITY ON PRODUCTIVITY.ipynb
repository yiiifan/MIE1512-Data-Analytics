{
 "cells": [
  {
   "cell_type": "markdown",
   "metadata": {},
   "source": [
    "# V3: Effect of diversity of interests on GitHub team productivity\n",
    "\n",
    "- NAME: ZHANG YIFAN\n",
    "- STUDENT NUMBER: 1004245952"
   ]
  },
  {
   "cell_type": "markdown",
   "metadata": {},
   "source": [
    "## Introduction\n",
    "\n",
    "The purpose of the project is to analyze the effect of diversity of individual members on GitHub team productivity by using machine learning models. \n",
    "\n",
    "\n",
    "The core paper I select to develop this project on is **Diversity of editors and teams versus quality of cooperative work: experiments on Wikipedia** [1]. \n",
    "> The paper presents some empirical study towards understanding of the role of diversity in individual and whole teams on the quality of the article in open collaboration environment like Wikipedia. In this paper, M. Sydow et al proposed an original diversity measure to quantify the diversity of interests of editor in Wikipedia. The interest profile of each editor is defined as the interest distribution vector over the set of all categories. And the diversity of interests(or equivalently versatility) of the editor is defined as the entropy of interest profile.\n",
    "\n",
    "\n",
    "Team diversity is one of the fundamental issues in social and organizational studies that has been broadly researched on. Open Source Software(OSS) projects on GitHub, like Wikipedia, is highly rely on collaboration and naturally embraced the diversity. It is interesting to study whether team members have diverse interests tend to be more productive in GitHub projects. \n",
    "\n",
    "In version one, in order to immigrate this approach on GitHub, I use the open dataset prepared by B. Vasilescu [2], which is contains the gender, location, domain and commit information of each committer in sperate GitHub projects. In this dataset, the language and domain can also reflect the interest of committers, so I select those two features to reproduce the approach as diversity of interests in Wikipedia. \n",
    "\n",
    "In version two, I collect data by using GHTorrent on Google BigQuery. The tables I selected are projects, project_member, commits in ght_2018_04_01. Then I identity the domain of the projects by Latent Dirichlet Allocation(LDA), a well-known topic analysis algorithm, on the text describing project features. The method is proposed in paper **A Large Scale Study of Programming Languages and Code Quality in GitHub**[3].\n",
    "\n",
    "\n",
    "In both versions, I choose following features to analyze the effect of diversity of individual members on GitHub team productivity.\n",
    "\n",
    "Firstly I calculate the domain versatility and language versatility for each committer and calculate the versatility for each projects. Similar to the main domain of the Wikipedia article, the domain of the Github projects could also reflect the interest of GitHub users. Also, mastering different programming languages can also reflect user interest in different fields. For example, language like HTML and CSS are related Frond End strongly, and language like python and R will be the first choice for data analysis.\n",
    "\n",
    "For productivity, an indicator of successful Github project, I select commits number to quantify the productivity of GitHub teams according to Rajdeep[5]. \n",
    ">Software development teams use the Concurrent Versioning System (CVS) to manage the software development process. CVS enables teams to store source code at a central location, thus enabling team members to retrieve the source code to make changes. CVS also helps the team to keep track of every change, including what was changed, when it was changed, and who made\n",
    "the change, and helps in blending changes made by different developers, including ensuring that developers do not accidentally overwrite each others’ alterations. A commit occurs when a developer uploads the altered source code file, where the CVS tool updates the changed files automatically. **As CVS commits reflect meaningful changes to the source code,\n",
    "we treat the number of commits as an indicator of successful technical refinement.**\n",
    "\n",
    "According to the core paper, I separate projects in terms of its team size and apply several machine learning algorithms and evaluate the relationship between diversity and productivity."
   ]
  },
  {
   "cell_type": "markdown",
   "metadata": {},
   "source": [
    "## Project Plan\n",
    "### Version 1\n",
    "- Literature Review (5h)\n",
    "    - Search and read related influential papers and compare their techniques.\n",
    "    - Writing literature review with references to the bibliography\n",
    "- Paper Reproduce (8h)\n",
    "    - Reproduce the results based on GitHub dataset equipped with domain and language\n",
    "    - Apply machine learning algorithms and analyze the result\n",
    "\n",
    "### Version 2\n",
    "- Understand the structure of dataset from GHTorrent and fetch/filter data from Google BigQuery (2h)\n",
    "- Processing the data (10h)\n",
    "    - Need to separate projects into different domains. However, the domain field is not supported by GHTorrent. Therefore, I use Latent Dirichlet Allocation(LDA) to infer the domain of the projects and generate 10 domains for GitHub repositories.\n",
    "    - Analyze the diversity of domain and languages in terms of each user/project\n",
    "- Build the model (5h)\n",
    "    - In the core paper, the dependent variable is the quality of article, which is a 5-level categorical variable. However in GitHub, there is no existed standard for quality of projects. So I decide to use the total commits as the indicator of project's productivity. And apply Linear Regression to GitHub dataset.\n",
    "- Assess model (3h)\n",
    "    - Evaluate the model by mse and predict the productivity on test dataset\n",
    "\n",
    "### Version 3\n",
    "- Review the project (2h)\n",
    "    - Review the methods and results of the project: Using LDA from pyspark instead of gensim package.\n",
    "    - Access the implementation of the projects, summarize the strength and weakness of the project\n",
    "- Finish final report (4h)\n"
   ]
  },
  {
   "cell_type": "markdown",
   "metadata": {},
   "source": [
    "## Date Understanding\n",
    "### Filter data by using GHTorrent and Bigquery\n",
    "The GHTorent project [4] uses GitHub API to collect more than 900GB of raw data and 10GB of metadata, which enables researchers to retrieve high-quality, interconnected data. The GHTorrent is currently available on Google Bigquery. The dataset we selected is ght_2018_04_01 from ghtorrent-bq. The table contains 83624114 records of GitHub repositories, and the tables we use in this project are projects, users, project_members, project_commits. Since some of Github repositories are not suitable for our analyzation, so I filter the projects by following standards. After filtering, we only select 59244 projects and saved as projects.csv. "
   ]
  },
  {
   "cell_type": "markdown",
   "metadata": {},
   "source": [
    "- Filter projects with created time before Oct 2017 and save as table [projects_filter], since projects created less than 90 days don't have sufficient data for analyzing diversity and commits."
   ]
  },
  {
   "cell_type": "code",
   "execution_count": null,
   "metadata": {},
   "outputs": [],
   "source": [
    "# SELECT id, name, description, language, created_at, updated_at,  FROM [ghtorrent-bq:ght_2018_04_01.projects] \n",
    "# HAVING (YEAR(created_at) < 2017 OR (YEAR(created_at) = 2017 AND MONTH(created_at) < 10))"
   ]
  },
  {
   "cell_type": "markdown",
   "metadata": {},
   "source": [
    "- Drop inactive projects and save as table [commits] and join projects_filter as table [projects_commits]"
   ]
  },
  {
   "cell_type": "code",
   "execution_count": null,
   "metadata": {},
   "outputs": [],
   "source": [
    "# SELECT project_id, COUNT(committer_id) total_commits FROM [ghtorrent-bq:ght_2018_04_01.commits]\n",
    "# GROUP BY project_id\n",
    "# HAVING total_commits > 10"
   ]
  },
  {
   "cell_type": "code",
   "execution_count": null,
   "metadata": {},
   "outputs": [],
   "source": [
    "# SELECT id as pid, name, description, language, total_commits\n",
    "# FROM [artest-7cda9:mie1512.projects_filter] as p\n",
    "# INNER JOIN \n",
    "# (SELECT * FROM [artest-7cda9:mie1512.commits]) as c\n",
    "# ON p.id = c.project_id"
   ]
  },
  {
   "cell_type": "markdown",
   "metadata": {},
   "source": [
    "- Drop rows with incomplete information like(description and language)"
   ]
  },
  {
   "cell_type": "code",
   "execution_count": null,
   "metadata": {},
   "outputs": [],
   "source": [
    "# SELECT * FROM [artest-7cda9:mie1512.projects_commits]\n",
    "# WHERE description <> '' AND description IS NOT NULL \n",
    "#       AND language <> '' AND language IS NOT NULL "
   ]
  },
  {
   "cell_type": "markdown",
   "metadata": {},
   "source": [
    "- Select projects teams over 5 team members and save as table [projects]"
   ]
  },
  {
   "cell_type": "code",
   "execution_count": null,
   "metadata": {},
   "outputs": [],
   "source": [
    "# SELECT repo_id, COUNT(user_id) total_num, GROUP_CONCAT(CAST(user_id as STRING), ' ') team\n",
    "# FROM [ghtorrent-bq:ght_2018_04_01.project_members]\n",
    "# GROUP BY repo_id"
   ]
  },
  {
   "cell_type": "code",
   "execution_count": null,
   "metadata": {},
   "outputs": [],
   "source": [
    "# SELECT * FROM (\n",
    "# SELECT pid, name, description, language, total_commits, total_num, team\n",
    "# FROM [artest-7cda9:mie1512.projects_desc] as p\n",
    "# INNER JOIN \n",
    "# (SELECT * FROM [artest-7cda9:mie1512.teams]) as c\n",
    "# ON p.pid = c.repo_id\n",
    "# )\n",
    "# WHERE total_num >= 5"
   ]
  },
  {
   "cell_type": "markdown",
   "metadata": {},
   "source": [
    "- Merge project_member table and commit table and save as table [member_commits]"
   ]
  },
  {
   "cell_type": "code",
   "execution_count": null,
   "metadata": {},
   "outputs": [],
   "source": [
    "# SELECT user_id, COUNT(committer_id) commits \n",
    "# FROM [ghtorrent-bq:ght_2018_04_01.project_members] as m\n",
    "# INNER JOIN\n",
    "# (SELECT * FROM [ghtorrent-bq:ght_2018_04_01.commits]) as c\n",
    "# ON m.user_id = c.author_id \n",
    "\n",
    "# GROUP BY user_id"
   ]
  },
  {
   "cell_type": "markdown",
   "metadata": {},
   "source": [
    "- Save selected data as projects.csv and import data "
   ]
  },
  {
   "cell_type": "code",
   "execution_count": 1,
   "metadata": {},
   "outputs": [],
   "source": [
    "import pandas as pd\n",
    "import numpy as np"
   ]
  },
  {
   "cell_type": "code",
   "execution_count": 2,
   "metadata": {},
   "outputs": [
    {
     "data": {
      "text/html": [
       "<div>\n",
       "<style scoped>\n",
       "    .dataframe tbody tr th:only-of-type {\n",
       "        vertical-align: middle;\n",
       "    }\n",
       "\n",
       "    .dataframe tbody tr th {\n",
       "        vertical-align: top;\n",
       "    }\n",
       "\n",
       "    .dataframe thead th {\n",
       "        text-align: right;\n",
       "    }\n",
       "</style>\n",
       "<table border=\"1\" class=\"dataframe\">\n",
       "  <thead>\n",
       "    <tr style=\"text-align: right;\">\n",
       "      <th></th>\n",
       "      <th>pid</th>\n",
       "      <th>name</th>\n",
       "      <th>description</th>\n",
       "      <th>language</th>\n",
       "      <th>total_commits</th>\n",
       "      <th>total_num</th>\n",
       "      <th>team</th>\n",
       "    </tr>\n",
       "  </thead>\n",
       "  <tbody>\n",
       "    <tr>\n",
       "      <th>0</th>\n",
       "      <td>5394105</td>\n",
       "      <td>TFYA50-Computational-Physics</td>\n",
       "      <td>Repository for the code, and all documentation...</td>\n",
       "      <td>C</td>\n",
       "      <td>239</td>\n",
       "      <td>5</td>\n",
       "      <td>2928855 2573182 2567824 2573236 2573238</td>\n",
       "    </tr>\n",
       "    <tr>\n",
       "      <th>1</th>\n",
       "      <td>10565043</td>\n",
       "      <td>CursoaslccsTarde</td>\n",
       "      <td>Curso ASL Caracas Turno Tarde</td>\n",
       "      <td>C</td>\n",
       "      <td>12</td>\n",
       "      <td>5</td>\n",
       "      <td>4483688 4483686 4483687 4483706 141594</td>\n",
       "    </tr>\n",
       "    <tr>\n",
       "      <th>2</th>\n",
       "      <td>12880262</td>\n",
       "      <td>midiogre</td>\n",
       "      <td>A MIDI music recommendation program written in...</td>\n",
       "      <td>C</td>\n",
       "      <td>753</td>\n",
       "      <td>5</td>\n",
       "      <td>865302 5835101 5690740 3325886 5690739</td>\n",
       "    </tr>\n",
       "    <tr>\n",
       "      <th>3</th>\n",
       "      <td>928657</td>\n",
       "      <td>webserver</td>\n",
       "      <td>Cherokee Web Server</td>\n",
       "      <td>C</td>\n",
       "      <td>11</td>\n",
       "      <td>5</td>\n",
       "      <td>31854 207481 48915 50572 50753</td>\n",
       "    </tr>\n",
       "    <tr>\n",
       "      <th>4</th>\n",
       "      <td>14493037</td>\n",
       "      <td>casplocationRepository</td>\n",
       "      <td>MNsoft team repository</td>\n",
       "      <td>C</td>\n",
       "      <td>36</td>\n",
       "      <td>5</td>\n",
       "      <td>6505510 6637749 6159683 6505589 6635720</td>\n",
       "    </tr>\n",
       "  </tbody>\n",
       "</table>\n",
       "</div>"
      ],
      "text/plain": [
       "        pid                          name  \\\n",
       "0   5394105  TFYA50-Computational-Physics   \n",
       "1  10565043              CursoaslccsTarde   \n",
       "2  12880262                      midiogre   \n",
       "3    928657                     webserver   \n",
       "4  14493037        casplocationRepository   \n",
       "\n",
       "                                         description language  total_commits  \\\n",
       "0  Repository for the code, and all documentation...        C            239   \n",
       "1                      Curso ASL Caracas Turno Tarde        C             12   \n",
       "2  A MIDI music recommendation program written in...        C            753   \n",
       "3                                Cherokee Web Server        C             11   \n",
       "4                             MNsoft team repository        C             36   \n",
       "\n",
       "   total_num                                     team  \n",
       "0          5  2928855 2573182 2567824 2573236 2573238  \n",
       "1          5   4483688 4483686 4483687 4483706 141594  \n",
       "2          5   865302 5835101 5690740 3325886 5690739  \n",
       "3          5           31854 207481 48915 50572 50753  \n",
       "4          5  6505510 6637749 6159683 6505589 6635720  "
      ]
     },
     "execution_count": 2,
     "metadata": {},
     "output_type": "execute_result"
    }
   ],
   "source": [
    "projects = pd.read_csv('projects.csv',delimiter = ',')\n",
    "projects.head()"
   ]
  },
  {
   "cell_type": "markdown",
   "metadata": {},
   "source": [
    "### Identify Project Domain\n",
    "Since Github repositories are not directly tagged with its domains, I use Latent Dirichlet Allocation(LDA) to infer the domain of the projects and generate 10 domains for GitHub repositories based on the name and description of the GitHub repositories. Topic modeling is a type of statistical modeling for discovering the abstract “topics” that occur in a collection of documents. Latent Dirichlet Allocation (LDA) is an example of topic model and is used to classify text in a document to a particular topic. It builds a topic per document model and words per topic model, modeled as Dirichlet distributions.\n",
    "#### Import Packages "
   ]
  },
  {
   "cell_type": "code",
   "execution_count": 1,
   "metadata": {},
   "outputs": [
    {
     "name": "stderr",
     "output_type": "stream",
     "text": [
      "[nltk_data] Downloading package stopwords to\n",
      "[nltk_data]     /home/jupyterlab/nltk_data...\n",
      "[nltk_data]   Unzipping corpora/stopwords.zip.\n"
     ]
    },
    {
     "data": {
      "text/plain": [
       "True"
      ]
     },
     "execution_count": 1,
     "metadata": {},
     "output_type": "execute_result"
    }
   ],
   "source": [
    "from pyspark import SparkContext\n",
    "from pyspark.sql import SQLContext\n",
    "from pyspark.sql import SparkSession\n",
    "from pyspark.sql import Row\n",
    "from pyspark.sql.types import StructType, StructField, LongType\n",
    "\n",
    "import re\n",
    "import numpy as np\n",
    "\n",
    "from pyspark.ml.feature import CountVectorizer, HashingTF, IDF\n",
    "from pyspark.ml.feature import Tokenizer, StopWordsRemover\n",
    "from pyspark.ml.clustering import LDA\n",
    "\n",
    "from nltk.corpus import stopwords\n",
    "import nltk\n",
    "nltk.download('stopwords')"
   ]
  },
  {
   "cell_type": "markdown",
   "metadata": {},
   "source": [
    "#### Data Pre-processing\n",
    "Read project.csv as Dataframe projectsRaw and concatenate columns name and description in projectsRaw as RDD description. \n",
    "- Tokenization: Split the text into sentences and the sentences into words. Lowercase the words and remove punctuation.\n",
    "- Words that have fewer than 3 characters are removed.\n",
    "- All stopwords are removed.\n",
    "- Add index to each row."
   ]
  },
  {
   "cell_type": "code",
   "execution_count": 2,
   "metadata": {},
   "outputs": [],
   "source": [
    "projectsRaw = sqlContext.read.format(\"csv\") \\\n",
    "   .options(header='true', inferschema='true') \\\n",
    "   .load(os.path.realpath(\"projects.csv\"))"
   ]
  },
  {
   "cell_type": "code",
   "execution_count": 3,
   "metadata": {},
   "outputs": [],
   "source": [
    "description = projectsRaw.rdd.map(lambda x : x['name']+' '+x['description'])\n",
    "StopWords = stopwords.words(\"english\")\n",
    "tokens = description                                                   \\\n",
    "    .map( lambda document: document.strip().lower())               \\\n",
    "    .map( lambda document: re.split(\" \", document))          \\\n",
    "    .map( lambda word: [x for x in word if x.isalpha()])           \\\n",
    "    .map( lambda word: [x for x in word if len(x) > 3] )           \\\n",
    "    .map( lambda word: [x for x in word if x not in StopWords])    \\\n",
    "    .zipWithIndex()"
   ]
  },
  {
   "cell_type": "markdown",
   "metadata": {},
   "source": [
    "- Transforming RDD into Dataframe contains two columns: index and list_of_words."
   ]
  },
  {
   "cell_type": "code",
   "execution_count": 4,
   "metadata": {},
   "outputs": [],
   "source": [
    "df_txts = sqlContext.createDataFrame(tokens, [\"list_of_words\",'index'])"
   ]
  },
  {
   "cell_type": "markdown",
   "metadata": {},
   "source": [
    "#### Build TF-IDF matrix\n",
    "- Feed df_txts into CountVectorizer and generate a sparse matrix of term frequencies attached to the original Dataframe.\n",
    "- Feed the output from CountVectorizer to IDF and also generate a IDF sparse matrix."
   ]
  },
  {
   "cell_type": "code",
   "execution_count": 5,
   "metadata": {},
   "outputs": [],
   "source": [
    "cv = CountVectorizer(inputCol=\"list_of_words\", outputCol=\"raw_features\", vocabSize=5000, minDF=10.0)\n",
    "cvmodel = cv.fit(df_txts)\n",
    "result_cv = cvmodel.transform(df_txts)\n",
    "vocab = cvmodel.vocabulary"
   ]
  },
  {
   "cell_type": "code",
   "execution_count": 6,
   "metadata": {},
   "outputs": [],
   "source": [
    "idf = IDF(inputCol=\"raw_features\", outputCol=\"features\")\n",
    "idfModel = idf.fit(result_cv)\n",
    "result_tfidf = idfModel.transform(result_cv) "
   ]
  },
  {
   "cell_type": "code",
   "execution_count": 7,
   "metadata": {},
   "outputs": [
    {
     "name": "stdout",
     "output_type": "stream",
     "text": [
      "+--------------------+-----+--------------------+--------------------+\n",
      "|       list_of_words|index|        raw_features|            features|\n",
      "+--------------------+-----+--------------------+--------------------+\n",
      "|[repository, docu...|    0|(3087,[1,46],[1.0...|(3087,[1,46],[3.3...|\n",
      "|[cursoaslccstarde...|    1|  (3087,[397],[1.0])|(3087,[397],[6.44...|\n",
      "|[midiogre, midi, ...|    2|(3087,[61,175,423...|(3087,[61,175,423...|\n",
      "|[webserver, chero...|    3|   (3087,[19],[1.0])|(3087,[19],[4.203...|\n",
      "|[casplocationrepo...|    4|(3087,[1,21],[1.0...|(3087,[1,21],[3.3...|\n",
      "|[nginx, client, m...|    5|(3087,[11,25,50,2...|(3087,[11,25,50,2...|\n",
      "|[projet, info, un...|    6|(3087,[97,778],[1...|(3087,[97,778],[5...|\n",
      "|[nginx, upstream,...|    7|(3087,[25,364,939...|(3087,[25,364,939...|\n",
      "|       [fstab, trop]|    8|        (3087,[],[])|        (3087,[],[])|\n",
      "|[hyperscript, aut...|    9|(3087,[85,253,119...|(3087,[85,253,119...|\n",
      "|[botball, altos, ...|   10|(3087,[21,125],[1...|(3087,[21,125],[4...|\n",
      "|[kernel, samsung,...|   11|(3087,[414,611,12...|(3087,[414,611,12...|\n",
      "|        [repository]|   12|    (3087,[1],[1.0])|(3087,[1],[3.3840...|\n",
      "|[heroesiiiswedish...|   13|        (3087,[],[])|        (3087,[],[])|\n",
      "|[fork, libgd, win...|   14|(3087,[41,116,139...|(3087,[41,116,139...|\n",
      "|[software, testin...|   15|(3087,[0,15,52],[...|(3087,[0,15,52],[...|\n",
      "|[århus, universit...|   16|(3087,[299,508],[...|(3087,[299,508],[...|\n",
      "|[simple, programs...|   17|(3087,[18,509],[1...|(3087,[18,509],[4...|\n",
      "|[ausbee, architec...|   18|(3087,[7,494],[1....|(3087,[7,494],[3....|\n",
      "|[qemu, official, ...|   19|(3087,[75,105],[1...|(3087,[75,105],[5...|\n",
      "+--------------------+-----+--------------------+--------------------+\n",
      "only showing top 20 rows\n",
      "\n"
     ]
    }
   ],
   "source": [
    "result_tfidf.show()"
   ]
  },
  {
   "cell_type": "markdown",
   "metadata": {},
   "source": [
    "#### Running LDA using Bag of Words\n",
    "- Top 10 domains are generated by Latent Dirichlet Allocation from pyspark package.\n",
    "- Since auto-detected domains only include several project-specific keywords, I manually inspect each domains to identify its domain name as following:\n",
    "    - Domain 0: LIBRARY\n",
    "    - Domain 1: FRAMEWORK\n",
    "    - Domain 2: PLUGIN\n",
    "    - Domain 3: DATABASE\n",
    "    - Domain 4: SERVER\n",
    "    - Domain 5: OTHER\n",
    "    - Domain 6: GUI\n",
    "    - Domain 7: EDUCATION\n",
    "    - Domain 8: WEB\n",
    "    - Domain 9: APPLICATION \n",
    "\n",
    "\n",
    "- Save domain of each project in project_processed.csv"
   ]
  },
  {
   "cell_type": "code",
   "execution_count": 8,
   "metadata": {},
   "outputs": [],
   "source": [
    "num_topics = 10\n",
    "max_iterations = 100\n",
    "lda = LDA(k=num_topics, featuresCol=\"features\", seed=0)\n",
    "model = lda.fit(result_tfidf)"
   ]
  },
  {
   "cell_type": "code",
   "execution_count": 9,
   "metadata": {},
   "outputs": [
    {
     "name": "stdout",
     "output_type": "stream",
     "text": [
      "Topic:  0\n",
      "Key words: library testing projects mirror create using robot provides community made \n",
      "\n",
      "Topic:  1\n",
      "Key words: test site framework data theme database public projeto para based \n",
      "\n",
      "Topic:  2\n",
      "Key words: plugin client documentation rails core simple mobile github base apps \n",
      "\n",
      "Topic:  3\n",
      "Key words: source android files open wordpress integration content manager implementation build \n",
      "\n",
      "Topic:  4\n",
      "Key words: django scripts extension ruby node processing image custom bindings manage \n",
      "\n",
      "Topic:  5\n",
      "Key words: repository game team server project java language code interface docker \n",
      "\n",
      "Topic:  6\n",
      "Key words: python wrapper example code projet tools demo utilities development portal \n",
      "\n",
      "Topic:  7\n",
      "Key words: project version university hackathon engine fork school para first time \n",
      "\n",
      "Topic:  8\n",
      "Key words: website software group project module final engineering proyecto javascript components \n",
      "\n",
      "Topic:  9\n",
      "Key words: application repo management service platform cloud official class system tool \n",
      "\n"
     ]
    }
   ],
   "source": [
    "# Infer top 10 words in each topics\n",
    "topics = model.describeTopics()\n",
    "model.topicsMatrix()\n",
    "topics_words = topics.rdd\\\n",
    ".map(lambda row: row['termIndices'])\\\n",
    ".map(lambda idx_list: [vocab[idx] for idx in idx_list])\\\n",
    ".collect()\n",
    "\n",
    "for idx, topic in enumerate(topics_words):\n",
    "    print (\"Topic: \", idx)\n",
    "    t = ''\n",
    "    for word in topic:\n",
    "        t += word + ' '       \n",
    "    print(\"Key words: \" + t)\n",
    "    print('')"
   ]
  },
  {
   "cell_type": "code",
   "execution_count": 10,
   "metadata": {},
   "outputs": [],
   "source": [
    "# Transform tfidf sparse matrix with LDA model\n",
    "transformed = model.transform(result_tfidf)"
   ]
  },
  {
   "cell_type": "code",
   "execution_count": 11,
   "metadata": {},
   "outputs": [],
   "source": [
    "# Select the Topic with highest possibility as the domain of the project\n",
    "topics = transformed.select('index', 'topicDistribution').rdd.map(lambda x: Row(\n",
    "    index = x[0],\n",
    "    domain = float(x[1].argmax())))\n",
    "topicsDF = spark.createDataFrame(topics)"
   ]
  },
  {
   "cell_type": "code",
   "execution_count": 12,
   "metadata": {},
   "outputs": [],
   "source": [
    "# Add index to origin projectRaw Dataframe and join with topicsDF on index\n",
    "def addColumnIndex(sdf): \n",
    "    new_schema = StructType(sdf.schema.fields + [StructField(\"ColumnIndex\", LongType(), False),])\n",
    "    return sdf.rdd.zipWithIndex().map(lambda row: row[0] + (row[1],)).toDF(schema=new_schema)\n",
    "\n",
    "data_index = addColumnIndex(projectsRaw)\n",
    "projects = data_index.join(topicsDF, data_index.ColumnIndex == topicsDF.index, 'inner').drop(\"ColumnIndex\",\"index\").toPandas()"
   ]
  },
  {
   "cell_type": "code",
   "execution_count": 13,
   "metadata": {},
   "outputs": [
    {
     "data": {
      "text/html": [
       "<div>\n",
       "<style scoped>\n",
       "    .dataframe tbody tr th:only-of-type {\n",
       "        vertical-align: middle;\n",
       "    }\n",
       "\n",
       "    .dataframe tbody tr th {\n",
       "        vertical-align: top;\n",
       "    }\n",
       "\n",
       "    .dataframe thead th {\n",
       "        text-align: right;\n",
       "    }\n",
       "</style>\n",
       "<table border=\"1\" class=\"dataframe\">\n",
       "  <thead>\n",
       "    <tr style=\"text-align: right;\">\n",
       "      <th></th>\n",
       "      <th>pid</th>\n",
       "      <th>name</th>\n",
       "      <th>domain</th>\n",
       "      <th>language</th>\n",
       "      <th>total_commits</th>\n",
       "      <th>total_num</th>\n",
       "      <th>team</th>\n",
       "    </tr>\n",
       "  </thead>\n",
       "  <tbody>\n",
       "    <tr>\n",
       "      <th>0</th>\n",
       "      <td>10723367</td>\n",
       "      <td>Droplit</td>\n",
       "      <td>1.0</td>\n",
       "      <td>C</td>\n",
       "      <td>26</td>\n",
       "      <td>5</td>\n",
       "      <td>1053835 457765 2149393 1861761 6847056</td>\n",
       "    </tr>\n",
       "    <tr>\n",
       "      <th>1</th>\n",
       "      <td>9690090</td>\n",
       "      <td>MOAG</td>\n",
       "      <td>5.0</td>\n",
       "      <td>C</td>\n",
       "      <td>103</td>\n",
       "      <td>5</td>\n",
       "      <td>3954487 393108 448979 1227535 459293</td>\n",
       "    </tr>\n",
       "    <tr>\n",
       "      <th>2</th>\n",
       "      <td>51048186</td>\n",
       "      <td>PKSM</td>\n",
       "      <td>6.0</td>\n",
       "      <td>C</td>\n",
       "      <td>615</td>\n",
       "      <td>5</td>\n",
       "      <td>34569796 10873078 13215636 33166216 31037142</td>\n",
       "    </tr>\n",
       "    <tr>\n",
       "      <th>3</th>\n",
       "      <td>328395</td>\n",
       "      <td>coral-calcium</td>\n",
       "      <td>6.0</td>\n",
       "      <td>C</td>\n",
       "      <td>127</td>\n",
       "      <td>7</td>\n",
       "      <td>191533 191524 191255 191532 191261 191294 191537</td>\n",
       "    </tr>\n",
       "    <tr>\n",
       "      <th>4</th>\n",
       "      <td>4397024</td>\n",
       "      <td>tarantool</td>\n",
       "      <td>1.0</td>\n",
       "      <td>C</td>\n",
       "      <td>13449</td>\n",
       "      <td>17</td>\n",
       "      <td>44189 280576 124648 933851 44759 280588 61713 ...</td>\n",
       "    </tr>\n",
       "  </tbody>\n",
       "</table>\n",
       "</div>"
      ],
      "text/plain": [
       "        pid           name  domain language total_commits total_num  \\\n",
       "0  10723367        Droplit     1.0        C            26         5   \n",
       "1   9690090           MOAG     5.0        C           103         5   \n",
       "2  51048186           PKSM     6.0        C           615         5   \n",
       "3    328395  coral-calcium     6.0        C           127         7   \n",
       "4   4397024      tarantool     1.0        C         13449        17   \n",
       "\n",
       "                                                team  \n",
       "0             1053835 457765 2149393 1861761 6847056  \n",
       "1               3954487 393108 448979 1227535 459293  \n",
       "2       34569796 10873078 13215636 33166216 31037142  \n",
       "3   191533 191524 191255 191532 191261 191294 191537  \n",
       "4  44189 280576 124648 933851 44759 280588 61713 ...  "
      ]
     },
     "execution_count": 13,
     "metadata": {},
     "output_type": "execute_result"
    }
   ],
   "source": [
    "col = ['pid', 'name', 'domain', 'language', 'total_commits', 'total_num', 'team']\n",
    "projects = projects[col]\n",
    "projects.head()"
   ]
  },
  {
   "cell_type": "code",
   "execution_count": 14,
   "metadata": {},
   "outputs": [],
   "source": [
    "projects.to_csv('project_processed.csv', index = False, header = True)"
   ]
  },
  {
   "cell_type": "markdown",
   "metadata": {},
   "source": [
    "### Review the Dataset"
   ]
  },
  {
   "cell_type": "code",
   "execution_count": 1,
   "metadata": {},
   "outputs": [],
   "source": [
    "import pandas as pd\n",
    "import matplotlib.pyplot as plt\n",
    "import seaborn as sns"
   ]
  },
  {
   "cell_type": "code",
   "execution_count": 2,
   "metadata": {},
   "outputs": [],
   "source": [
    "diversity = sqlContext.read.format(\"csv\") \\\n",
    "   .options(header='true', inferschema='true') \\\n",
    "   .load(os.path.realpath(\"project_processed.csv\"))\\\n",
    "\n",
    "diversity.createOrReplaceTempView(\"diversity\")"
   ]
  },
  {
   "cell_type": "code",
   "execution_count": 3,
   "metadata": {},
   "outputs": [
    {
     "data": {
      "text/plain": [
       "59244"
      ]
     },
     "execution_count": 3,
     "metadata": {},
     "output_type": "execute_result"
    }
   ],
   "source": [
    "diversity = spark.sql(\"\"\"\n",
    "SELECT pid, name, language, total_commits, total_num, team,\n",
    "CASE WHEN domain = 0.0 THEN 'LIBRARY' \n",
    "     WHEN diversity.domain = 1.0 THEN 'FRAMEWORK'\n",
    "     WHEN diversity.domain = 2.0 THEN 'PLUGIN'\n",
    "     WHEN diversity.domain = 3.0 THEN 'DATABASE'\n",
    "     WHEN diversity.domain = 4.0 THEN 'SERVER'\n",
    "     WHEN diversity.domain = 5.0 THEN 'OTHER'\n",
    "     WHEN diversity.domain = 6.0 THEN 'GUI'\n",
    "     WHEN diversity.domain = 7.0 THEN 'EDUCATION'\n",
    "     WHEN diversity.domain = 8.0 THEN 'WEB'\n",
    "     WHEN diversity.domain = 9.0 THEN 'APPLICATION'\n",
    "END AS domain_name\n",
    "FROM diversity\n",
    "\"\"\")\n",
    "diversity.createOrReplaceTempView(\"diversity\")\n",
    "diversity.count()"
   ]
  },
  {
   "cell_type": "code",
   "execution_count": 4,
   "metadata": {},
   "outputs": [
    {
     "name": "stdout",
     "output_type": "stream",
     "text": [
      "+--------+--------------------+--------+-------------+---------+--------------------+-----------+\n",
      "|     pid|                name|language|total_commits|total_num|                team|domain_name|\n",
      "+--------+--------------------+--------+-------------+---------+--------------------+-----------+\n",
      "|10723367|             Droplit|       C|           26|        5|1053835 457765 21...|  FRAMEWORK|\n",
      "| 9690090|                MOAG|       C|          103|        5|3954487 393108 44...|      OTHER|\n",
      "|51048186|                PKSM|       C|          615|        5|34569796 10873078...|        GUI|\n",
      "|  328395|       coral-calcium|       C|          127|        7|191533 191524 191...|        GUI|\n",
      "| 4397024|           tarantool|       C|        13449|       17|44189 280576 1246...|  FRAMEWORK|\n",
      "|10572384|spideroak_inotify...|       C|           16|       18|10478 15055 96329...|     PLUGIN|\n",
      "|     236|            dablooms|       C|           62|       33|1783 1054072 1054...|     SERVER|\n",
      "|  145675|    media-unofficial|       D|          383|       28|312989 315746 372...|    LIBRARY|\n",
      "|13104127|             RTwilio|       R|           21|        5|1987476 1399516 8...|        GUI|\n",
      "|  145729|Cancer-Pathway-Sp...|       R|           72|       21|574956 962412 372...|APPLICATION|\n",
      "|56604293|      HelloClassroom|      C#|           47|        5|12293285 4506238 ...|  EDUCATION|\n",
      "|18186914|                  p2|      C#|          348|        5|7586204 7586182 7...|    LIBRARY|\n",
      "|17464646|      LearningSystem|      C#|           55|        5|7610914 3510136 7...|        WEB|\n",
      "|  744802|              Snitch|      C#|           43|        5|720971 720987 720...|    LIBRARY|\n",
      "|13395422|          NecroTDGit|      C#|           18|        5|6102859 6126850 6...|    LIBRARY|\n",
      "|28899724|         JustEmerged|      C#|          115|        5|9724748 6562792 1...|        WEB|\n",
      "|  344513|               cecil|      C#|          122|        6|12305 12307 10203...|  EDUCATION|\n",
      "|17062323|            mono-tls|      C#|          628|        7|102033 12307 1018...|   DATABASE|\n",
      "|  196704|rabbitmq-dotnet-c...|      C#|           79|       22|422767 173891 173...|    LIBRARY|\n",
      "|21622800|       Paket.Unity3D|      F#|           28|       10|9154081 387024 17...|   DATABASE|\n",
      "+--------+--------------------+--------+-------------+---------+--------------------+-----------+\n",
      "only showing top 20 rows\n",
      "\n"
     ]
    }
   ],
   "source": [
    "diversity.show()"
   ]
  },
  {
   "cell_type": "markdown",
   "metadata": {},
   "source": [
    "As we could see in the table, the dataset contains 59244 records. The columns of dataset that we will use are described as following:\n",
    "- **project_id**: the id of the project\n",
    "- **name**: the name of the project\n",
    "- **language**: the main language of the project, including 'PHP', 'Objective-C', 'JavaScript', 'Rust', 'Ruby', 'C', 'C++', 'Shell', 'Haskell', 'Perl', 'Tcl', 'Python', 'Java', 'Julia', 'Erlang', 'None', 'Go', 'LiveScript', 'Lua', 'FORTRAN', 'Ceylon', 'Elixir', 'C#', 'Scala', 'OCaml', 'CoffeeScript', 'Processing', 'Puppet', 'VimL', 'Ecl', 'Clojure', 'Matlab', 'ColdFusion', 'CSS','Racket', 'Emacs Lisp', 'Groovy', 'Kotlin', 'HaXe', 'R', 'Vala', 'Common Lisp', 'ActionScript', 'D', 'VHDL', 'Volt', 'XML', 'Nimrod', 'Verilog', 'Coq', 'Prolog', 'ASP', 'Logos', 'BlitzBasic', 'TypeScript', 'XSLT', 'PowerShell', 'Haxe', 'Dart', 'Visual Basic', 'F#', 'Augeas', 'Dylan', 'Scheme', 'ooc', 'Objective-J', 'SuperCollider', 'TeX', 'Assembly', 'Ada', 'Pure Data', 'Slash', 'Eiffel', 'Apex', 'Standard ML', 'AppleScript', 'Arduino', 'Delphi', 'Boo', 'XQuery', 'Crystal', 'Scilab', 'XC', 'Smalltalk', 'Parrot', 'Monkey', 'Bro', 'Xtend', 'Io', 'DOT', 'OpenEdge ABL', 'Opa', and 'XProc'.\n",
    "- **domain**: the domain of the project, including \n",
    "    - Domain 0: LIBRARY\n",
    "    - Domain 1: FRAMEWORK\n",
    "    - Domain 2: PLUGIN\n",
    "    - Domain 3: DATABASE\n",
    "    - Domain 4: SERVER\n",
    "    - Domain 5: OTHER\n",
    "    - Domain 6: GUI\n",
    "    - Domain 7: EDUCATION\n",
    "    - Domain 8: WEB\n",
    "    - Domain 9: APPLICATION \n",
    "- **total_commits**: the total commits of the project\n",
    "- **total_num**: the member number of the project team\n",
    "- **team**: the uid of the project team, represent as a string separate by comma"
   ]
  },
  {
   "cell_type": "markdown",
   "metadata": {},
   "source": [
    "- As shown in following graph, the distribution is domain is relatively balance. The LIBRARY domain is the most frequently domain while GUI is the least frequently domain."
   ]
  },
  {
   "cell_type": "code",
   "execution_count": 12,
   "metadata": {},
   "outputs": [
    {
     "data": {
      "image/png": "[encoded data removed]",
      "text/plain": [
       "<Figure size 720x360 with 1 Axes>"
      ]
     },
     "metadata": {
      "needs_background": "light"
     },
     "output_type": "display_data"
    }
   ],
   "source": [
    "domain = spark.sql(\"\"\"\n",
    "SELECT domain_name, count(1) cnt\n",
    "FROM diversity\n",
    "GROUP BY domain_name\n",
    "ORDER BY cnt DESC\n",
    "\"\"\").toPandas()\n",
    "f1 = domain.plot(kind=\"bar\", x=\"domain_name\", y=\"cnt\", figsize=(10,5))\n",
    "plt.title(\"Domain Distribution\")\n",
    "plt.xlabel(\"Domain\")\n",
    "plt.ylabel(\"Count\")\n",
    "plt.savefig(os.path.join('domain.png'), dpi=300, format='png', bbox_inches='tight') "
   ]
  },
  {
   "cell_type": "markdown",
   "metadata": {},
   "source": [
    "- Select top 20 frequent languages and visualization in bar graph as following. Javascript is the most popular language with over 10000 records in this dataset. JAVA, Python, Ruby and PHP are also really popular according to the result."
   ]
  },
  {
   "cell_type": "code",
   "execution_count": 13,
   "metadata": {},
   "outputs": [
    {
     "data": {
      "image/png": "[encoded data removed]",
      "text/plain": [
       "<Figure size 720x360 with 1 Axes>"
      ]
     },
     "metadata": {
      "needs_background": "light"
     },
     "output_type": "display_data"
    }
   ],
   "source": [
    "language = spark.sql(\"\"\"\n",
    "SELECT language, count(1) cnt\n",
    "FROM diversity\n",
    "GROUP BY language\n",
    "ORDER BY cnt DESC\n",
    "LIMIT 20\n",
    "\"\"\").toPandas()\n",
    "f2= language.plot(kind=\"bar\", x=\"language\", y=\"cnt\", figsize=(10,5))\n",
    "plt.title(\"Language Distribution\")\n",
    "plt.xlabel(\"Language\")\n",
    "plt.ylabel(\"Count\")\n",
    "plt.savefig(os.path.join('language.png'), dpi=300, format='png', bbox_inches='tight') "
   ]
  },
  {
   "cell_type": "markdown",
   "metadata": {},
   "source": [
    "## Data Preparation\n",
    "In this part, we calculate the versatility of domain and language of individual and team in GitHub respectively based on the concept of versatility of interest proposed in the core paper. \n",
    "### Import Packages"
   ]
  },
  {
   "cell_type": "code",
   "execution_count": 1,
   "metadata": {},
   "outputs": [],
   "source": [
    "from pyspark.sql import *\n",
    "import pyspark.sql.types as T \n",
    "import pyspark.sql.functions as F\n",
    "import seaborn as sns\n",
    "import matplotlib.pyplot as plt\n",
    "\n",
    "from datetime import datetime\n",
    "import math\n",
    "import pandas as pd\n",
    "import numpy as np\n",
    "\n",
    "import matplotlib\n",
    "%matplotlib inline  "
   ]
  },
  {
   "cell_type": "markdown",
   "metadata": {},
   "source": [
    "### Import dataset as RDD in spark\n",
    "Import project_processed.csv and mem_commits.csv(commits number of each user) and create Tempview."
   ]
  },
  {
   "cell_type": "code",
   "execution_count": 2,
   "metadata": {},
   "outputs": [],
   "source": [
    "# Import processed project data as RDD\n",
    "diversity_data = sc.textFile(\"project_processed.csv\").filter(lambda line: not line.startswith(\"pid\"))"
   ]
  },
  {
   "cell_type": "code",
   "execution_count": 3,
   "metadata": {},
   "outputs": [],
   "source": [
    "# Seperate different columns in eahc row by comma\n",
    "diversity_Fields = diversity_data.map(lambda line: line.split(\",\"))"
   ]
  },
  {
   "cell_type": "code",
   "execution_count": 4,
   "metadata": {},
   "outputs": [],
   "source": [
    "# Attach header of each column\n",
    "diversity_Rows = diversity_Fields.map(lambda x: Row( pid = x[0],\n",
    "                                              name = x[1],\n",
    "                                              domain = x[2],\n",
    "                                              language = x[3],\n",
    "                                            total_commits = x[4],\n",
    "                                            total_number = x[5],\n",
    "                                            team = x[6].split(\" \")\n",
    "                                            )\n",
    "                             )"
   ]
  },
  {
   "cell_type": "code",
   "execution_count": 5,
   "metadata": {},
   "outputs": [
    {
     "data": {
      "text/plain": [
       "59244"
      ]
     },
     "execution_count": 5,
     "metadata": {},
     "output_type": "execute_result"
    }
   ],
   "source": [
    "diversity_Rows.count()"
   ]
  },
  {
   "cell_type": "code",
   "execution_count": 6,
   "metadata": {},
   "outputs": [],
   "source": [
    "# Create Dataframe based on diversity_Rows\n",
    "diversityDF = spark.createDataFrame(diversity_Rows)"
   ]
  },
  {
   "cell_type": "code",
   "execution_count": 7,
   "metadata": {},
   "outputs": [
    {
     "name": "stdout",
     "output_type": "stream",
     "text": [
      "root\n",
      " |-- domain: string (nullable = true)\n",
      " |-- language: string (nullable = true)\n",
      " |-- name: string (nullable = true)\n",
      " |-- pid: string (nullable = true)\n",
      " |-- team: array (nullable = true)\n",
      " |    |-- element: string (containsNull = true)\n",
      " |-- total_commits: string (nullable = true)\n",
      " |-- total_number: string (nullable = true)\n",
      "\n"
     ]
    }
   ],
   "source": [
    "diversityDF.printSchema()"
   ]
  },
  {
   "cell_type": "code",
   "execution_count": 8,
   "metadata": {},
   "outputs": [
    {
     "name": "stdout",
     "output_type": "stream",
     "text": [
      "+------+--------+--------------------+--------+--------------------+-------------+------------+\n",
      "|domain|language|                name|     pid|                team|total_commits|total_number|\n",
      "+------+--------+--------------------+--------+--------------------+-------------+------------+\n",
      "|   1.0|       C|             Droplit|10723367|[1053835, 457765,...|           26|           5|\n",
      "|   5.0|       C|                MOAG| 9690090|[3954487, 393108,...|          103|           5|\n",
      "|   6.0|       C|                PKSM|51048186|[34569796, 108730...|          615|           5|\n",
      "|   6.0|       C|       coral-calcium|  328395|[191533, 191524, ...|          127|           7|\n",
      "|   1.0|       C|           tarantool| 4397024|[44189, 280576, 1...|        13449|          17|\n",
      "|   2.0|       C|spideroak_inotify...|10572384|[10478, 15055, 96...|           16|          18|\n",
      "|   4.0|       C|            dablooms|     236|[1783, 1054072, 1...|           62|          33|\n",
      "|   0.0|       D|    media-unofficial|  145675|[312989, 315746, ...|          383|          28|\n",
      "|   6.0|       R|             RTwilio|13104127|[1987476, 1399516...|           21|           5|\n",
      "|   9.0|       R|Cancer-Pathway-Sp...|  145729|[574956, 962412, ...|           72|          21|\n",
      "|   7.0|      C#|      HelloClassroom|56604293|[12293285, 450623...|           47|           5|\n",
      "|   0.0|      C#|                  p2|18186914|[7586204, 7586182...|          348|           5|\n",
      "|   8.0|      C#|      LearningSystem|17464646|[7610914, 3510136...|           55|           5|\n",
      "|   0.0|      C#|              Snitch|  744802|[720971, 720987, ...|           43|           5|\n",
      "|   0.0|      C#|          NecroTDGit|13395422|[6102859, 6126850...|           18|           5|\n",
      "|   8.0|      C#|         JustEmerged|28899724|[9724748, 6562792...|          115|           5|\n",
      "|   7.0|      C#|               cecil|  344513|[12305, 12307, 10...|          122|           6|\n",
      "|   3.0|      C#|            mono-tls|17062323|[102033, 12307, 1...|          628|           7|\n",
      "|   0.0|      C#|rabbitmq-dotnet-c...|  196704|[422767, 173891, ...|           79|          22|\n",
      "|   3.0|      F#|       Paket.Unity3D|21622800|[9154081, 387024,...|           28|          10|\n",
      "+------+--------+--------------------+--------+--------------------+-------------+------------+\n",
      "only showing top 20 rows\n",
      "\n"
     ]
    }
   ],
   "source": [
    "diversityDF.show()"
   ]
  },
  {
   "cell_type": "code",
   "execution_count": 9,
   "metadata": {},
   "outputs": [],
   "source": [
    "diversityDF.createOrReplaceTempView(\"diversity\")"
   ]
  },
  {
   "cell_type": "code",
   "execution_count": 10,
   "metadata": {},
   "outputs": [],
   "source": [
    "# Read the commits number of each user as RDD\n",
    "member_commits = sc.textFile(\"mem_commits.csv\").filter(lambda line: not line.startswith(\"user_id\"))"
   ]
  },
  {
   "cell_type": "code",
   "execution_count": 11,
   "metadata": {},
   "outputs": [],
   "source": [
    "# Seperate different columns in eahc row by comma\n",
    "member_Fields = member_commits.map(lambda line: line.split(\",\"))"
   ]
  },
  {
   "cell_type": "code",
   "execution_count": 12,
   "metadata": {},
   "outputs": [],
   "source": [
    "# Attach header of each column\n",
    "member_Rows = member_Fields.map(lambda x: Row( user_id = x[0],\n",
    "                                              commits_num = int(x[1])\n",
    "                                            )\n",
    "                             )"
   ]
  },
  {
   "cell_type": "code",
   "execution_count": 13,
   "metadata": {},
   "outputs": [],
   "source": [
    "memberDF = spark.createDataFrame(member_Rows)"
   ]
  },
  {
   "cell_type": "code",
   "execution_count": 14,
   "metadata": {},
   "outputs": [
    {
     "name": "stdout",
     "output_type": "stream",
     "text": [
      "root\n",
      " |-- commits_num: long (nullable = true)\n",
      " |-- user_id: string (nullable = true)\n",
      "\n"
     ]
    }
   ],
   "source": [
    "memberDF.printSchema()"
   ]
  },
  {
   "cell_type": "code",
   "execution_count": 15,
   "metadata": {},
   "outputs": [],
   "source": [
    "memberDF.createOrReplaceTempView(\"mem_commits\")"
   ]
  },
  {
   "cell_type": "markdown",
   "metadata": {},
   "source": [
    "### Create users schema\n",
    "In the core paper, Baraniak et al proposed a way to calcualte the versatility of interest in terms of Wikipedia projects[1]. The Versatility represents the entropy of editor's partial contributions to each category. And the productivity represents the number of bytes by which they modified Wikipedia content. In order to migrate this Wikipedia-based approach to GitHub dataset, I select Domain versatility, Language Versatility and Commits to analyze. Since The domain and language of projects could also reflect the interest versatility of GitHub user. And Commits could be a good feature to quantify the productivity of GitHub teams.\n",
    "\n",
    "\n",
    "Calculate the entropy of domain diversity and language diversity for each team member.\n",
    "- Rebuild the data structure by exploding team and group by uid\n",
    "- Calculate the percent of each domain/language according to each user\n",
    "- Calculate the entropy by $ V(x) = \\sum_i{-p_i log_2(p_i)} $, where $p_i$ is the percent of each domain/language"
   ]
  },
  {
   "cell_type": "code",
   "execution_count": 16,
   "metadata": {},
   "outputs": [],
   "source": [
    "# Explode the team and calcualte the domain versatility\n",
    "spark.sql(\"\"\"\n",
    "SELECT uid, SUM(-domain_per * LOG(domain_per)/LOG(2)) domain_vers \n",
    "FROM(\n",
    "    SELECT DISTINCT uid, domain, COUNT(1) over (partition by uid, domain) / COUNT(1) over (partition by uid) domain_per\n",
    "    FROM (\n",
    "        SELECT pid, domain, language, explode(team) uid FROM diversity\n",
    "    )\n",
    "    \n",
    "    order by uid\n",
    ")\n",
    "GROUP BY uid\n",
    "\"\"\").createOrReplaceTempView(\"domain_vers\")"
   ]
  },
  {
   "cell_type": "code",
   "execution_count": 17,
   "metadata": {},
   "outputs": [],
   "source": [
    "# Explode the team and calcualte the language versatility\n",
    "spark.sql(\"\"\"\n",
    "SELECT uid, SUM(-language_per * LOG(language_per)/LOG(2)) language_vers \n",
    "FROM(\n",
    "    SELECT DISTINCT uid, language, COUNT(1) over (partition by uid, language) / COUNT(1) over (partition by uid) language_per\n",
    "    FROM (\n",
    "        SELECT pid, language, explode(team) uid FROM diversity\n",
    "    )\n",
    "    order by uid\n",
    ")\n",
    "GROUP BY uid\n",
    "\"\"\").createOrReplaceTempView(\"language_vers\")"
   ]
  },
  {
   "cell_type": "code",
   "execution_count": 18,
   "metadata": {},
   "outputs": [],
   "source": [
    "# Join the domain versatility and language versatility based on uid\n",
    "users_vers = spark.sql(\"\"\"\n",
    "SELECT uid, domain_vers, language_vers, commits_num\n",
    "FROM(\n",
    "SELECT uid, domain_vers, language_vers \n",
    "    FROM(\n",
    "    SELECT * FROM (\n",
    "        SELECT uid domain_uid, domain_vers FROM domain_vers\n",
    "    ) t JOIN language_vers ON t.domain_uid = language_vers.uid\n",
    ")\n",
    "ORDER BY uid\n",
    ") p \n",
    "INNER JOIN mem_commits ON p.uid = mem_commits.user_id\n",
    "\"\"\")"
   ]
  },
  {
   "cell_type": "code",
   "execution_count": 19,
   "metadata": {},
   "outputs": [],
   "source": [
    "users_vers.createOrReplaceTempView(\"users_vers\")"
   ]
  },
  {
   "cell_type": "code",
   "execution_count": 20,
   "metadata": {},
   "outputs": [
    {
     "name": "stdout",
     "output_type": "stream",
     "text": [
      "+--------+-----------------+------------------+-----------+\n",
      "|     uid|      domain_vers|     language_vers|commits_num|\n",
      "+--------+-----------------+------------------+-----------+\n",
      "|  100227|1.584962500721156| 1.584962500721156|      11502|\n",
      "|  100768|1.584962500721156|0.9182958340544896|       4662|\n",
      "| 1009080|              0.0|               0.0|       1200|\n",
      "|  101021|              0.0|               0.0|      50259|\n",
      "| 1014157|              0.0|               0.0|      10095|\n",
      "|10167090|              0.0|               0.0|          6|\n",
      "|10205737|              0.0|               0.0|        429|\n",
      "|10206095|              0.0|               0.0|         21|\n",
      "|10206130|              0.0|               0.0|          2|\n",
      "|10209666|              0.0|               0.0|         39|\n",
      "| 1020987|              0.0|               0.0|        295|\n",
      "|10232587|              0.0|               0.0|         34|\n",
      "| 1024606|              0.0|               0.0|       1332|\n",
      "|  102539|1.584962500721156|               0.0|       5859|\n",
      "|10257200|              0.0|               0.0|        105|\n",
      "|10278346|              1.0|               1.0|        159|\n",
      "|10280971|              0.0|               0.0|       1170|\n",
      "|10325096|              0.0|               0.0|          5|\n",
      "| 1032902|              0.0|               0.0|         50|\n",
      "|   10351|2.903701696057348|1.2917601481809733|       4851|\n",
      "+--------+-----------------+------------------+-----------+\n",
      "only showing top 20 rows\n",
      "\n"
     ]
    }
   ],
   "source": [
    "users_vers.show()"
   ]
  },
  {
   "cell_type": "markdown",
   "metadata": {},
   "source": [
    "### Create project_vers schema\n",
    "Calculate the average diversity of domain and language of the projects based on each team member's diversity, and save to project_vers.csv."
   ]
  },
  {
   "cell_type": "code",
   "execution_count": 21,
   "metadata": {},
   "outputs": [],
   "source": [
    "# Calcualte the domain versatility and team varsatiltiy\n",
    "project_vers = spark.sql(\"\"\"\n",
    "SELECT pid, name, total_number team_size, total_commits, total_commits/total_number per_commits, AVG(domain_vers) domain_vers, AVG(language_vers) language_vers \n",
    "FROM (\n",
    "SELECT pid, name, total_commits, total_number, explode(team) uid\n",
    "FROM diversity\n",
    ") d JOIN users_vers ON d.uid = users_vers.uid\n",
    "\n",
    "GROUP BY pid, name, team_size, total_commits, per_commits\n",
    "ORDER BY pid\n",
    "\"\"\")"
   ]
  },
  {
   "cell_type": "code",
   "execution_count": 22,
   "metadata": {},
   "outputs": [],
   "source": [
    "project_vers.createOrReplaceTempView(\"project_vers\")"
   ]
  },
  {
   "cell_type": "code",
   "execution_count": 23,
   "metadata": {},
   "outputs": [
    {
     "name": "stdout",
     "output_type": "stream",
     "text": [
      "+--------+--------------------+---------+-------------+------------------+-------------------+-------------------+\n",
      "|     pid|                name|team_size|total_commits|       per_commits|        domain_vers|      language_vers|\n",
      "+--------+--------------------+---------+-------------+------------------+-------------------+-------------------+\n",
      "|     100|        angular-seed|       20|          162|               8.1| 2.5659908484171225| 1.2751919210453853|\n",
      "|10000062|          luvit-tape|        5|           50|              10.0|  2.919631798648272| 1.7272840454193108|\n",
      "|10000113| jQuery-rwdImageMaps|        8|           14|              1.75|  0.771240625180289| 0.1147869792568112|\n",
      "|10000302|WordPress-iOS-Editor|       15|          739|49.266666666666666| 3.1903972574439887|  2.059837422350975|\n",
      "|10000717|fluxx_api_toolkit...|       24|           20|0.8333333333333334|0.06559255957532069|0.11321160719436829|\n",
      "|10000731|             samples|       22|           30|1.3636363636363635| 0.1584962500721156| 0.1584962500721156|\n",
      "|10000783|          kafka-node|       27|           14|0.5185185185185185|  3.023173528125329| 2.1724386096288315|\n",
      "|10001002|       omega-supreme|        5|          131|              26.2| 2.4745655003769174|                0.0|\n",
      "|10001166|              fj0514|        8|           44|               5.5|                0.0|                0.0|\n",
      "|10001217|      grailsflow-app|        9|           49| 5.444444444444445|                0.0|                0.0|\n",
      "|10001302|            gridflow|       13|          178|13.692307692307692| 2.8664988078203772| 2.1885614066968144|\n",
      "|10001479|                 CIS|        5|          219|              43.8|                0.6|                0.6|\n",
      "|10001516| RightscaleAPIClient|       13|           27| 2.076923076923077| 1.2965252816156352| 0.5086464937368474|\n",
      "|10001602|  cloud-file-browser|        8|           68|               8.5|                0.0|                0.0|\n",
      "|10001763|            geogebra|       32|           16|               0.5| 2.2960537000472674|  0.080926306357408|\n",
      "|10001825|            sbt-echo|       10|           44|               4.4|  2.392631616654584|  1.676042961415746|\n",
      "|10001855|      lspc.github.io|        5|           36|               7.2|               0.75|                0.0|\n",
      "|10002005|         TravisTools|       17|           39|2.2941176470588234|                0.0|                0.0|\n",
      "|10002239|auth0-jquery-api-...|       10|           13|               1.3| 3.0222710685246463| 1.4596766453821481|\n",
      "|10002318|         4GP-Website|        5|           18|               3.6|                0.4|                0.4|\n",
      "+--------+--------------------+---------+-------------+------------------+-------------------+-------------------+\n",
      "only showing top 20 rows\n",
      "\n"
     ]
    }
   ],
   "source": [
    "project_vers.show()"
   ]
  },
  {
   "cell_type": "code",
   "execution_count": 24,
   "metadata": {},
   "outputs": [],
   "source": [
    "project_vers.toPandas().to_csv('project_vers.csv', index = False, header = True)"
   ]
  },
  {
   "cell_type": "markdown",
   "metadata": {},
   "source": [
    "## Modeling\n",
    "### Analysis of Editor's Productivity and Versatility\n",
    "- Seperate feature total_commits into 5 categories: A(total_commits < 1000), B(1000<=total_commits<2000), C(2000<=total_commits<3000), D(3000<=total_commits<5000), E(5000<=total_commits<10000),F(total_commits>10000)\n",
    "- Analyzed five groups of editors and denoted them in boxplot graphs: the result for domain versatility is presented on left and language versatility is presented on right.\n",
    "- From the graph, we could observe a slight increasing in versatility when user's productivity add up from level A to level F. It is indicates that there might be a positive correlation between user's domain/language versatility and user's productivity."
   ]
  },
  {
   "cell_type": "code",
   "execution_count": 29,
   "metadata": {},
   "outputs": [],
   "source": [
    "# Seperate total_commits into five categories\n",
    "users_vers_pro = spark.sql(\"\"\"\n",
    "SELECT uid, domain_vers, language_vers, \n",
    "CASE WHEN commits_num < 1000 THEN 'A'\n",
    "WHEN commits_num >= 1000 AND commits_num < 2000 THEN 'B'\n",
    "WHEN commits_num >= 2000 AND commits_num < 3000 THEN 'C'\n",
    "WHEN commits_num >= 3000 AND commits_num < 5000 THEN 'D'\n",
    "WHEN commits_num >= 5000 AND commits_num < 10000 THEN 'E'\n",
    "WHEN commits_num >= 10000 THEN 'F'\n",
    "END AS productivity\n",
    "FROM users_vers\n",
    "\"\"\")"
   ]
  },
  {
   "cell_type": "code",
   "execution_count": 30,
   "metadata": {},
   "outputs": [],
   "source": [
    "users_vers_pro.createOrReplaceTempView(\"users_vers_pro\")"
   ]
  },
  {
   "cell_type": "code",
   "execution_count": 31,
   "metadata": {},
   "outputs": [
    {
     "data": {
      "image/png": "[encoded data removed]",
      "text/plain": [
       "<Figure size 864x432 with 2 Axes>"
      ]
     },
     "metadata": {
      "needs_background": "light"
     },
     "output_type": "display_data"
    }
   ],
   "source": [
    "# Plot boxplot of five categories of productivity and corresponding domain versatility and language versatility.\n",
    "bp = users_vers_pro.toPandas().boxplot(by='productivity', figsize=(12,6))\n",
    "[ax_tmp.set_xlabel('') for ax_tmp in np.asarray(bp).reshape(-1)]\n",
    "fig = np.asarray(bp).reshape(-1)[0].get_figure()\n",
    "fig.suptitle('Uers versatility by productivity levels')\n",
    "plt.show()"
   ]
  },
  {
   "cell_type": "code",
   "execution_count": 32,
   "metadata": {},
   "outputs": [
    {
     "name": "stdout",
     "output_type": "stream",
     "text": [
      "+------------+------+------------------+-------------------+\n",
      "|productivity|   cnt|   domain_vers_avg|  language_vers_avg|\n",
      "+------------+------+------------------+-------------------+\n",
      "|           A|160147|0.2337085076642322|0.16029239239985488|\n",
      "|           B| 21784|0.4754517293078308|0.32245284431419446|\n",
      "|           C| 11940|0.5548705775313284| 0.3752255224312286|\n",
      "|           D| 13834|0.6263895049087452|   0.41936311225969|\n",
      "|           E| 16037|0.7330170125686415|0.49278561777226876|\n",
      "|           F| 38281| 1.166505228422436|  0.738431739565536|\n",
      "+------------+------+------------------+-------------------+\n",
      "\n"
     ]
    }
   ],
   "source": [
    "spark.sql(\"\"\"\n",
    "SELECT productivity, COUNT(1) cnt, AVG(domain_vers) domain_vers_avg, AVG(language_vers) language_vers_avg\n",
    "FROM users_vers_pro\n",
    "\n",
    "GROUP BY productivity\n",
    "ORDER BY productivity\n",
    "\n",
    "\"\"\").show()"
   ]
  },
  {
   "cell_type": "markdown",
   "metadata": {},
   "source": [
    "### Applying Linear Regression model on teams\n",
    "- In this experiment, analyze the relationship between the diversity of team and the productivity of team.\n",
    "- Apply Linear Regression model on small project(teamsize < 11), medium project(11<=teamsize<50), and large project(teamsize>50). In the core paper, the response variable is categorical feature: quality of the Wikipedia articles. 0 represents the normal articles while 1 represents featured/good articles. Since there isn't a clear standard for the productivity of the project. So I selected linear regression instead of logistic regression to analyze the relationship between the diversity of team in Github and their productivity. \n",
    "- Therefore, domain versatility and language versatility are selected as features and per_commits is response variable."
   ]
  },
  {
   "cell_type": "code",
   "execution_count": 33,
   "metadata": {},
   "outputs": [],
   "source": [
    "project_vers = sqlContext.read.format(\"csv\") \\\n",
    "   .options(header='true', inferschema='true') \\\n",
    "   .load(os.path.realpath(\"project_vers.csv\"))\\\n",
    "   .dropna()"
   ]
  },
  {
   "cell_type": "code",
   "execution_count": 34,
   "metadata": {},
   "outputs": [],
   "source": [
    "project_vers.createOrReplaceTempView(\"project_vers\")"
   ]
  },
  {
   "cell_type": "code",
   "execution_count": 35,
   "metadata": {},
   "outputs": [],
   "source": [
    "results = []"
   ]
  },
  {
   "cell_type": "code",
   "execution_count": 36,
   "metadata": {},
   "outputs": [],
   "source": [
    "from pyspark.ml.evaluation import RegressionEvaluator\n",
    "from pyspark.ml.feature import VectorAssembler\n",
    "\n",
    "def model(team_type, data, module):\n",
    "    \n",
    "    vectorAssembler = VectorAssembler(inputCols = ['domain_vers','language_vers'], outputCol = 'features')\n",
    "    vers = vectorAssembler.transform(data)\n",
    "    vers = vers.select(['features', 'per_commits'])\n",
    "    \n",
    "    splits = vers.randomSplit([0.7, 0.3], seed = 101)\n",
    "    train = splits[0]\n",
    "    test = splits[1]\n",
    "\n",
    "    model = module.fit(train)\n",
    "    \n",
    "    trainingSummary = model.summary\n",
    "    \n",
    "    lr_predictions = model.transform(test)   \n",
    "    test_result = model.evaluate(test)\n",
    "\n",
    "    \n",
    "    result = {'type': team_type, 'model': module, \n",
    "              'Coefficients':model.coefficients, 'Intercept':model.intercept,\n",
    "              'train_RMSE':trainingSummary.rootMeanSquaredError, \n",
    "              'test_RMSE':test_result.rootMeanSquaredError }\n",
    "    \n",
    "    results.append(result)  "
   ]
  },
  {
   "cell_type": "code",
   "execution_count": 37,
   "metadata": {},
   "outputs": [],
   "source": [
    "small_team = spark.sql(\"\"\"\n",
    "SELECT * FROM project_vers\n",
    "WHERE team_size < 11\n",
    "\"\"\")"
   ]
  },
  {
   "cell_type": "code",
   "execution_count": 38,
   "metadata": {},
   "outputs": [],
   "source": [
    "medium_team = spark.sql(\"\"\"\n",
    "SELECT * FROM project_vers\n",
    "WHERE (team_size >= 11 AND team_size < 50)\n",
    "\"\"\")"
   ]
  },
  {
   "cell_type": "code",
   "execution_count": 39,
   "metadata": {},
   "outputs": [],
   "source": [
    "large_team = spark.sql(\"\"\"\n",
    "SELECT * FROM project_vers\n",
    "WHERE team_size > 50\n",
    "\"\"\")"
   ]
  },
  {
   "cell_type": "code",
   "execution_count": 40,
   "metadata": {},
   "outputs": [],
   "source": [
    "# Build the linear regression modle and apply to three dataset\n",
    "from pyspark.ml.regression import LinearRegression\n",
    "lr = LinearRegression( featuresCol = 'features', labelCol='per_commits', maxIter=10, regParam=0.3, elasticNetParam=0.8)\n",
    "model(\"small_team\", small_team, lr)\n",
    "model(\"medium_team\", medium_team, lr)\n",
    "model(\"large_team\", large_team, lr)"
   ]
  },
  {
   "cell_type": "code",
   "execution_count": 41,
   "metadata": {},
   "outputs": [
    {
     "data": {
      "text/html": [
       "<div>\n",
       "<style scoped>\n",
       "    .dataframe tbody tr th:only-of-type {\n",
       "        vertical-align: middle;\n",
       "    }\n",
       "\n",
       "    .dataframe tbody tr th {\n",
       "        vertical-align: top;\n",
       "    }\n",
       "\n",
       "    .dataframe thead th {\n",
       "        text-align: right;\n",
       "    }\n",
       "</style>\n",
       "<table border=\"1\" class=\"dataframe\">\n",
       "  <thead>\n",
       "    <tr style=\"text-align: right;\">\n",
       "      <th></th>\n",
       "      <th>type</th>\n",
       "      <th>model</th>\n",
       "      <th>Coefficients</th>\n",
       "      <th>Intercept</th>\n",
       "      <th>train_RMSE</th>\n",
       "      <th>test_RMSE</th>\n",
       "    </tr>\n",
       "  </thead>\n",
       "  <tbody>\n",
       "    <tr>\n",
       "      <th>0</th>\n",
       "      <td>small_team</td>\n",
       "      <td>LinearRegression_4924bc6cea17ed425371</td>\n",
       "      <td>[3.730176678246042, 2.090636085447597]</td>\n",
       "      <td>47.873306</td>\n",
       "      <td>230.220384</td>\n",
       "      <td>194.357750</td>\n",
       "    </tr>\n",
       "    <tr>\n",
       "      <th>1</th>\n",
       "      <td>medium_team</td>\n",
       "      <td>LinearRegression_4924bc6cea17ed425371</td>\n",
       "      <td>[-0.7141944373278759, -1.6987954758988302]</td>\n",
       "      <td>48.664503</td>\n",
       "      <td>191.990099</td>\n",
       "      <td>223.458552</td>\n",
       "    </tr>\n",
       "    <tr>\n",
       "      <th>2</th>\n",
       "      <td>large_team</td>\n",
       "      <td>LinearRegression_4924bc6cea17ed425371</td>\n",
       "      <td>[-7.605424938512877, 3.139847160775286]</td>\n",
       "      <td>27.378889</td>\n",
       "      <td>89.431752</td>\n",
       "      <td>47.673887</td>\n",
       "    </tr>\n",
       "  </tbody>\n",
       "</table>\n",
       "</div>"
      ],
      "text/plain": [
       "          type                                  model  \\\n",
       "0   small_team  LinearRegression_4924bc6cea17ed425371   \n",
       "1  medium_team  LinearRegression_4924bc6cea17ed425371   \n",
       "2   large_team  LinearRegression_4924bc6cea17ed425371   \n",
       "\n",
       "                                 Coefficients  Intercept  train_RMSE  \\\n",
       "0      [3.730176678246042, 2.090636085447597]  47.873306  230.220384   \n",
       "1  [-0.7141944373278759, -1.6987954758988302]  48.664503  191.990099   \n",
       "2     [-7.605424938512877, 3.139847160775286]  27.378889   89.431752   \n",
       "\n",
       "    test_RMSE  \n",
       "0  194.357750  \n",
       "1  223.458552  \n",
       "2   47.673887  "
      ]
     },
     "execution_count": 41,
     "metadata": {},
     "output_type": "execute_result"
    }
   ],
   "source": [
    "# Show the results\n",
    "col = ['type','model','Coefficients','Intercept','train_RMSE','test_RMSE']\n",
    "pd.DataFrame.from_dict(results)[col]"
   ]
  },
  {
   "cell_type": "markdown",
   "metadata": {},
   "source": [
    "## Results Interpretations\n",
    "### Analysis of individual's Productivity and Versatility\n",
    "A boxplot is a standardized way of displaying the distribution of data based on a five number summary (minimum, first quartile, median, third quartile, and maximum). In this experiment, we use boxplot to visualize the relationship between Versatility and productivity. The result for domain versatility is shown on left while language versatility is shown on right. In both graph, we could notice a positive connection between versatility and the productivity of the user. In general, more versatility the user are, he or she will be more productive. Also by comparing two graph, we can notice that language versatility seems to have a stronger connection with productivity than domain versatility.\n",
    "### Applying Linear Regression model on Team Versatility\n",
    "We apply linear regression to analyze the relationship between the versatility and productivity of GitHub repositories. We also separate the repositories into three different categories: small(means project members are less than 11), medium(means project member are between 11 to 50), and large(means project members are over 50). We could observe that Root Mean Square Deviation(RMSD, a measure of the differences between values predicted by a model or an estimator and the values observed) is decreasing while the size of group increasing. We could speculate that as group size increasing, the team versatility will also increase and lead to a higher productivity. However, We need to admit that the result model is not ideal for predicting productivity, since the collaboration among Wikipedia projects and collaboration among GitHub projects might have different mechanism and characteristics. \n",
    "\n",
    "For Wikipedia editor, high diversity of interest reflects the editor's erudite and passion for Wikipedia editing work. Diverse knowledge and familiar collaboration could help editors develop high quality Wikipedia articles. As Baraniak mentioned in the core paper[1], user with broader expertise might act as ties between community subgroups, which is a crucial factor for maintaining a group coherence.\n",
    "\n",
    "However for Github user, commit to different domain of projects or different language of projects has no strong relation to their work quality. For Github users, an expertise in a specific domain turns to be more productive than users who has been involved into many fields. "
   ]
  },
  {
   "cell_type": "markdown",
   "metadata": {},
   "source": [
    "## Conclusion\n",
    "\n",
    "- There are still some place to improve in the future:\n",
    "    - Other than domain versatility and language versatility, other diversity feature like gender, location or tenure could be take into consideration. \n",
    "    - The dataset ght_2018_04_01 provided by GHTorrent is not complete. Therefore, I doubt that the faults and incompletency of dataset might affect the result of the experiments. A better dataset should be selected for analyzation in the futre.\n",
    "        - In users table, no user is created in year 2010, 2014, 2015, 2016.\n",
    "        - In projects table, no project is updated in year 2018\n",
    "        - etc\n",
    "               \n",
    "   "
   ]
  },
  {
   "cell_type": "markdown",
   "metadata": {},
   "source": [
    "## Reference"
   ]
  },
  {
   "cell_type": "markdown",
   "metadata": {},
   "source": [
    "[1] M. Sydow, K. Baraniak, and P. Teisseyre, “Diversity of editors and teams versus quality of cooperative work: experiments on wikipedia,” Journal of Intelligent Information Systems, vol. 48, no. 3, pp. 601–632, jun 2017. [Online]. Available: http://link.springer.com/10.1007/s10844-016-0428-1\n",
    "\n",
    "[2] Vasilescu, B., Serebrenik, A., & Filkov, V. (2015). A Data Set for Social Diversity Studies of GitHub Teams. In 2015 IEEE/ACM 12th Working Conference on Mining Software Repositories (pp. 514–517). IEEE. https://github.com/bvasiles/diversity\n",
    "\n",
    "[3] B. Ray, D. Posnett, V. Filkov, and P. Devanbu, “A large scale study of programming languages and code quality in github,” in Proceedings of the 22nd ACM SIGSOFT International Symposium on Foundations of Software Engineering - FSE 2014. New York, New York, USA: ACM Press, 2014, pp. 155–165. [Online]. Available: http://dl.acm.org/citation.cfm?doid=2635868.2635922\n",
    "\n",
    "[4] G. Georgios, “The GHTorent dataset and tool suite,” Proceedings of the 10th Working Conference on Mining Software Repositories, p. 438, 2013. [Online]. Available: https://dl.acm.org/citation.cfm?id=2487132\n",
    "\n",
    "[5] Grewal, Rajdeep et al. “Location, Location, Location: How Network Embeddedness Affects Project Success in Open Source Systems.” Management Science 52 (2006): 1043-1056.\n",
    "\n",
    "\n",
    "\n",
    "\n"
   ]
  }
 ],
 "metadata": {
  "kernelspec": {
   "display_name": "Python 3",
   "language": "python",
   "name": "python3"
  },
  "language_info": {
   "codemirror_mode": {
    "name": "ipython",
    "version": 3
   },
   "file_extension": ".py",
   "mimetype": "text/x-python",
   "name": "python",
   "nbconvert_exporter": "python",
   "pygments_lexer": "ipython3",
   "version": "3.6.8"
  }
 },
 "nbformat": 4,
 "nbformat_minor": 2
}
